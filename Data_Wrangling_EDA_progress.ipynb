{
 "cells": [
  {
   "cell_type": "markdown",
   "id": "2212434b",
   "metadata": {},
   "source": [
    "According to a report/study done by Mckinsey and Compnay in 2013. 35% of what people purchase on Amazon and 75% of what people watch on Netfix come from recommendations. This shows that recommendation systems are powerful tools.\n",
    "\n",
    "Recommendation systems help users discover items they may not have known were previously there and that may be relevant to them."
   ]
  },
  {
   "cell_type": "markdown",
   "id": "2122cab9",
   "metadata": {},
   "source": [
    "content based filtering is based on the features of the items.\n",
    "collaborative filtering is based on similar user preferences.\n",
    "\n",
    "\n",
    "In the world of collaborative filtering there are usually two types of ratings, explicit ratings and implicit ratings.\n",
    "Explicit: number of stars or thumbs up/down\n",
    "Implicit ratings: Based on passive tracking of behavior (ex. number of movies seen in different genres). These are usually generated from the frequency of your actions. (count of user actions)\n",
    "\n",
    "Our data is suited for content based and user based filtering"
   ]
  },
  {
   "cell_type": "markdown",
   "id": "e1881cc2",
   "metadata": {},
   "source": [
    "### Wrangling"
   ]
  },
  {
   "cell_type": "code",
   "execution_count": 3,
   "id": "196cca88",
   "metadata": {},
   "outputs": [],
   "source": [
    "from pyspark.sql import SparkSession"
   ]
  },
  {
   "cell_type": "code",
   "execution_count": 4,
   "id": "c00f3b3e",
   "metadata": {},
   "outputs": [],
   "source": [
    "spark = SparkSession.builder.appName(\"MyFirstjson1\").getOrCreate()"
   ]
  },
  {
   "cell_type": "code",
   "execution_count": 5,
   "id": "1f5a978a",
   "metadata": {},
   "outputs": [
    {
     "name": "stdout",
     "output_type": "stream",
     "text": [
      "+----------+-------+--------------------+-----------+-------------+------------+------------+--------------+--------------+--------+----+\n",
      "|      asin|overall|          reviewText| reviewTime|   reviewerID|reviewerName|       style|       summary|unixReviewTime|verified|vote|\n",
      "+----------+-------+--------------------+-----------+-------------+------------+------------+--------------+--------------+--------+----+\n",
      "|0151004714|    5.0|This is the best ...|09 18, 1999|AAP7PPBU72QFM|D. C. Carrad|{ Hardcover}|A star is born|     937612800|    true|  67|\n",
      "+----------+-------+--------------------+-----------+-------------+------------+------------+--------------+--------------+--------+----+\n",
      "\n"
     ]
    }
   ],
   "source": [
    "ratings = spark.read.option(\"multiline\",\"true\").json(\"Electronics_5.json\")\n",
    "ratings.show()"
   ]
  },
  {
   "cell_type": "code",
   "execution_count": 6,
   "id": "2f0543de",
   "metadata": {},
   "outputs": [
    {
     "name": "stdout",
     "output_type": "stream",
     "text": [
      "+--------+---------+----------+---------+--------------------+----------------+--------------------+--------------------+---+--------------------+--------------------+------------------+------+--------------------+------------+-----+-----+--------------------+\n",
      "|also_buy|also_view|      asin|    brand|            category|            date|         description|             feature|fit|            imageURL|     imageURLHighRes|          main_cat| price|                rank|similar_item|tech1|tech2|               title|\n",
      "+--------+---------+----------+---------+--------------------+----------------+--------------------+--------------------+---+--------------------+--------------------+------------------+------+--------------------+------------+-----+-----+--------------------+\n",
      "|      []|       []|0011300000|GeoVision|[Electronics, Cam...|January 28, 2014|[The following ca...|[Genuine Geovisio...|   |[https://images-n...|[https://images-n...|Camera &amp; Photo|$65.00|[>#3,092 in Tools...|            |     |     |Genuine Geovision...|\n",
      "+--------+---------+----------+---------+--------------------+----------------+--------------------+--------------------+---+--------------------+--------------------+------------------+------+--------------------+------------+-----+-----+--------------------+\n",
      "\n"
     ]
    }
   ],
   "source": [
    "metadata = spark.read.option(\"multiline\",\"true\").json(\"meta_Electronics.json\")\n",
    "metadata.show()"
   ]
  },
  {
   "cell_type": "code",
   "execution_count": 7,
   "id": "ffc40462",
   "metadata": {},
   "outputs": [],
   "source": [
    "from pyspark.sql.types import StringType, IntegerType, StructType, StructField, TimestampType, DateType"
   ]
  },
  {
   "cell_type": "code",
   "execution_count": 8,
   "id": "750b2b43",
   "metadata": {},
   "outputs": [],
   "source": [
    "schema = StructType([StructField('asin', StringType(), True),\n",
    "                     StructField('brand', StringType(), True),\n",
    "                     StructField('title', StringType(), True),\n",
    "                     StructField('description', StringType(), True),\n",
    "                     StructField('price', StringType(), True),\n",
    "                     StructField('rank', StringType(), True)\n",
    "                    ])"
   ]
  },
  {
   "cell_type": "code",
   "execution_count": 9,
   "id": "6298b8ec",
   "metadata": {},
   "outputs": [],
   "source": [
    "schema1 = StructType([StructField('asin', StringType(), True),\n",
    "                     StructField('overall', StringType(), True),\n",
    "                     StructField('reviewTime', StringType(), True),\n",
    "                     StructField('reviewerID', StringType(), True),\n",
    "                     StructField('reviewerName', StringType(), True),\n",
    "                     StructField('style', StringType(), True),\n",
    "                     StructField('summary', StringType(), True),\n",
    "                     StructField('vote', StringType(), True),\n",
    "                    ])"
   ]
  },
  {
   "cell_type": "code",
   "execution_count": 10,
   "id": "6de66a35",
   "metadata": {},
   "outputs": [
    {
     "name": "stdout",
     "output_type": "stream",
     "text": [
      "root\n",
      " |-- asin: string (nullable = true)\n",
      " |-- brand: string (nullable = true)\n",
      " |-- title: string (nullable = true)\n",
      " |-- description: string (nullable = true)\n",
      " |-- price: string (nullable = true)\n",
      " |-- rank: string (nullable = true)\n",
      "\n",
      "+----------+--------------------+--------------------+--------------------+--------------------+--------------------+\n",
      "|      asin|               brand|               title|         description|               price|                rank|\n",
      "+----------+--------------------+--------------------+--------------------+--------------------+--------------------+\n",
      "|0060219602|Visit Amazon's Di...|Hurray for Hattie...|                  []|.a-section.a-spac...|2,024,298 in Books (|\n",
      "|0101635370|          Crazy Cart|abcGoodefg&reg; 4...|[\"Support system:...|                    |[\">#177,454 in El...|\n",
      "|0302643370|                  WB|The Lord of the R...|[\"While Frodo &am...|                    |[\">#359,908 in El...|\n",
      "|0312171048|Visit Amazon's Je...|The Angel Doll: A...|[\"YA?Life in Thom...|               $3.98|2,597,757 in Books (|\n",
      "|0375503757|Visit Amazon's Lu...|What She Saw...: ...|[\"Sometimes in a ...|               $9.90|2,321,866 in Books (|\n",
      "|0375505458|Visit Amazon's Wh...|A Collection of B...|[\"Set in San Fran...|               $7.00|1,923,399 in Books (|\n",
      "|0385671539|       Brian Francis|       Natural Order|[\"Good, sharp, vi...|              $32.95|3,943,249 in Books (|\n",
      "|045122261X|Visit Amazon's Sa...|In the Blood (The...|             [\"\",\"\"]|               $0.96|2,735,824 in Books (|\n",
      "|0528013475|        Rand McNally|Rand McNally RV T...|[\"Award-winning n...|                    |[\">#4,892 in Elec...|\n",
      "|0528881469|        Rand McNally|Rand McNally 5288...|[\"**** Shipped by...|                    |[\">#60 in Electro...|\n",
      "|0575075996|   Stephen Donaldson|The Runes of the ...|[\"In 1977, Stephe...|               $4.95|3,302,117 in Books (|\n",
      "|0578030500|         Ronda Burke| Running in the Rain|                  []|               $4.31|5,203,800 in Books (|\n",
      "|0594017424|      Barnes & Noble|Barnes &amp; Nobl...|[\"Wrapped in Ital...|                    |[\">#7,515 in Elec...|\n",
      "|0594287995|      Barnes & Noble|Kate Spade Rain o...|                  []|                    |[\">#6,607 in Amaz...|\n",
      "|0594296420|  Barnes &amp; Noble|Barnes &amp; Nobl...|[\"If you prefer t...|                    |[\">#5,901 in Elec...|\n",
      "|0594450659|  Barnes &amp; Noble|AntiGlare Screen ...|[\"The Anti-Glare ...|               $3.95|[\">#225 in Electr...|\n",
      "|0594459451|  Barnes &amp; Noble|Barnes &amp; Nobl...|[\"Original Barnes...|               $6.04|[\">#24 in Electro...|\n",
      "|0594467977|    Barnes and Noble|NOOK GlowLight Co...|[\"Nook GlowLight ...|                    |[\">#5,765 in Elec...|\n",
      "|0594481902|  Barnes &amp; Noble|Barnes &amp; Nobl...|[\"###############...|                    |[\">#55 in Electro...|\n",
      "|0594202442|  Barnes &amp; Noble|Barnes &amp; Nobl...|[\"New! Never used.\"]|                    |[\">#1,667,237 in ...|\n",
      "+----------+--------------------+--------------------+--------------------+--------------------+--------------------+\n",
      "only showing top 20 rows\n",
      "\n"
     ]
    }
   ],
   "source": [
    "meta = spark.read.schema(schema) \\\n",
    "        .json(\"meta_Electronics.json\").sample(fraction=0.3, seed=42)\n",
    "meta.printSchema()\n",
    "meta.show()"
   ]
  },
  {
   "cell_type": "code",
   "execution_count": 11,
   "id": "0a9b560d",
   "metadata": {},
   "outputs": [
    {
     "name": "stdout",
     "output_type": "stream",
     "text": [
      "root\n",
      " |-- asin: string (nullable = true)\n",
      " |-- overall: string (nullable = true)\n",
      " |-- reviewTime: string (nullable = true)\n",
      " |-- reviewerID: string (nullable = true)\n",
      " |-- reviewerName: string (nullable = true)\n",
      " |-- style: string (nullable = true)\n",
      " |-- summary: string (nullable = true)\n",
      " |-- vote: string (nullable = true)\n",
      "\n",
      "+----------+-------+-----------+--------------+--------------------+--------------------+--------------------+----+\n",
      "|      asin|overall| reviewTime|    reviewerID|        reviewerName|               style|             summary|vote|\n",
      "+----------+-------+-----------+--------------+--------------------+--------------------+--------------------+----+\n",
      "|0151004714|    5.0| 09 4, 2000|A1T17LMQABMBN5|     Caf Girl Writes|{\"Format:\":\" Hard...|The most beautifu...|  13|\n",
      "|0380709473|    5.0|07 30, 2015|A2AUQM1HT2D5T8|                 ema|{\"Format:\":\" Kind...|          Five Stars|null|\n",
      "|0511189877|    2.0|04 14, 2014|A3J3BRHTDRFJ2G|            EJ Honda|                null| Ergonomic nightmare|  12|\n",
      "|0511189877|    2.0|11 11, 2016| A2OSUEZJIN7BI|               Chris|                null|        Cannot Learn|null|\n",
      "|0511189877|    4.0|03 10, 2016|A12JHGROAX49G7|             Linwood|                null|Works Good and pr...|null|\n",
      "|0511189877|    5.0|02 29, 2016| A8COCL8EE1CQH|             anthony|                null|Exactly what you ...|null|\n",
      "|0511189877|    5.0| 11 3, 2015|A2ABSBR5AZ6F0C|       James Prevott|                null|          Five Stars|null|\n",
      "|0511189877|    5.0|07 22, 2015|A1D4UFZ9X6U5UW|          Lithia Leo|                null|Works just like t...|null|\n",
      "|0511189877|    5.0|06 10, 2015|A1VJ8WQJ5X5F5M|         Chocol8drop|                null|          Five Stars|null|\n",
      "|0511189877|    4.0| 05 9, 2015|A3HZFOY6YU5BKD|   Charles R. Miller|                null|          Four Stars|null|\n",
      "|0511189877|    5.0| 10 9, 2014|A15QGU71Q6TNOV|               Peter|                null|          Five Stars|null|\n",
      "|0511189877|    3.0| 09 5, 2014| AYZOKN5H8S0T5|               Essay|                null|          bad design|null|\n",
      "|0528881469|    2.0|06 21, 2010| A2CPBQ5W4OGBX|               Deann|                null|New GPS doesn't w...|  25|\n",
      "|0528881469|    5.0|08 22, 2013|A3H86FCI0QZH7T|William Meriwethe...|                null|          Five Stars|null|\n",
      "|0545105668|    5.0|07 20, 2015|A1QXXAR7PIGHO2|      Javier Unzueta|{\"Format:\":\" Pape...|          Five Stars|null|\n",
      "|0545105668|    5.0|07 14, 2015|A1TIQNQJZ2LDNW|       Chris Gregory|                null|A comforting read...|null|\n",
      "|0545105668|    5.0| 07 4, 2015|A1TIQNQJZ2LDNW|       Chris Gregory|                null|Great read for al...|null|\n",
      "|0545105668|    5.0|06 20, 2015|A1TIQNQJZ2LDNW|       Chris Gregory|                null|Exciting read for...|null|\n",
      "|0545105668|    5.0|12 19, 2013|A10GHE5EBAQ8R2|        C. M. Nelson|{\"Format:\":\" Pape...|so good, we've re...|null|\n",
      "|0557348153|    5.0|04 23, 2013|A1ARCVHHCTJFBV|     Amazon Customer|{\"Format:\":\" Kind...|          Great book|null|\n",
      "+----------+-------+-----------+--------------+--------------------+--------------------+--------------------+----+\n",
      "only showing top 20 rows\n",
      "\n"
     ]
    }
   ],
   "source": [
    "ratings = spark.read.schema(schema1) \\\n",
    "        .json(\"Electronics_5.json\").sample(fraction=0.3, seed=42)\n",
    "ratings.printSchema()\n",
    "ratings.show()"
   ]
  },
  {
   "cell_type": "code",
   "execution_count": 12,
   "id": "9416c502",
   "metadata": {},
   "outputs": [
    {
     "name": "stdout",
     "output_type": "stream",
     "text": [
      "root\n",
      " |-- asin: string (nullable = true)\n",
      " |-- overall: float (nullable = true)\n",
      " |-- reviewTime: string (nullable = true)\n",
      " |-- reviewerID: string (nullable = true)\n",
      " |-- reviewerName: string (nullable = true)\n",
      " |-- style: string (nullable = true)\n",
      " |-- summary: string (nullable = true)\n",
      " |-- vote: float (nullable = true)\n",
      "\n",
      "root\n",
      " |-- asin: string (nullable = true)\n",
      " |-- brand: string (nullable = true)\n",
      " |-- title: string (nullable = true)\n",
      " |-- description: string (nullable = true)\n",
      " |-- price: string (nullable = true)\n",
      " |-- rank: string (nullable = true)\n",
      "\n"
     ]
    }
   ],
   "source": [
    "# Import all from `sql.types`\n",
    "from pyspark.sql.types import *\n",
    "\n",
    "# Write a custom function to convert the data type of DataFrame columns\n",
    "\n",
    "def convertColumn(df, names, newType):\n",
    "    for name in names: \n",
    "        df = df.withColumn(name, df[name].cast(newType))\n",
    "    return df \n",
    "\n",
    "# List of continuous features\n",
    "CONTI_FEATURES  = ['overall', 'vote']\n",
    "# Convert the type\n",
    "ratings = convertColumn(ratings, CONTI_FEATURES, FloatType())\n",
    "\n",
    "\n",
    "# Check the dataset\n",
    "ratings.printSchema()\n",
    "meta.printSchema()"
   ]
  },
  {
   "cell_type": "code",
   "execution_count": 13,
   "id": "f776fdf2",
   "metadata": {},
   "outputs": [
    {
     "name": "stdout",
     "output_type": "stream",
     "text": [
      "+----------+-------+----------+--------------+---------------+--------------------+--------------------+----+\n",
      "|      asin|overall|reviewTime|    reviewerID|   reviewerName|               style|             summary|vote|\n",
      "+----------+-------+----------+--------------+---------------+--------------------+--------------------+----+\n",
      "|0151004714|    5.0|09-04-2000|A1T17LMQABMBN5|Caf Girl Writes|{\"Format:\":\" Hard...|The most beautifu...|13.0|\n",
      "|0380709473|    5.0|07-30-2015|A2AUQM1HT2D5T8|            ema|{\"Format:\":\" Kind...|          Five Stars|null|\n",
      "|0511189877|    2.0|04-14-2014|A3J3BRHTDRFJ2G|       EJ Honda|                null| Ergonomic nightmare|12.0|\n",
      "|0511189877|    2.0|11-11-2016| A2OSUEZJIN7BI|          Chris|                null|        Cannot Learn|null|\n",
      "|0511189877|    4.0|03-10-2016|A12JHGROAX49G7|        Linwood|                null|Works Good and pr...|null|\n",
      "+----------+-------+----------+--------------+---------------+--------------------+--------------------+----+\n",
      "only showing top 5 rows\n",
      "\n"
     ]
    }
   ],
   "source": [
    "# Lets fix the format of the reviewTime column (Do we even need time as a feature?)\n",
    "\n",
    "from pyspark.sql.functions import *\n",
    "ratings = ratings.withColumn('reviewTime', regexp_replace('reviewTime', ', ', '-'))\n",
    "ratings = ratings.withColumn('reviewTime', regexp_replace('reviewTime', ' ', '-'))\n",
    "for i in range(1,10):\n",
    "    ratings = ratings.withColumn('reviewTime', regexp_replace('reviewTime', '-'+str(i)+'-', '-0'+str(i)+'-'))\n",
    "ratings.show(5)"
   ]
  },
  {
   "cell_type": "code",
   "execution_count": 14,
   "id": "98c813a0",
   "metadata": {},
   "outputs": [],
   "source": [
    "# Now that we have fixed the string, we can convert the column from string to a date type.\n",
    "\n",
    "ratings = ratings.withColumn('reviewTime', \n",
    "                   to_date(unix_timestamp(col('reviewTime'), 'MM-dd-yyyy').cast(\"timestamp\")))"
   ]
  },
  {
   "cell_type": "markdown",
   "id": "9d8e21af",
   "metadata": {},
   "source": [
    "If we are to change the column to date type, we have to know that the default for Datetype in pyspark is yyyy-MM-dd, we can change the strings in the column to this using a function and then convert to Datetype.\n"
   ]
  },
  {
   "cell_type": "code",
   "execution_count": 15,
   "id": "863097f3",
   "metadata": {},
   "outputs": [],
   "source": [
    "# We can also rename the ratings asin column\n",
    "ratings = ratings.withColumnRenamed(\"asin\", \"ProductId\")"
   ]
  },
  {
   "cell_type": "markdown",
   "id": "b8acba2e",
   "metadata": {},
   "source": [
    "It works! We also see that there are a lot of product id's that are strings because they have an 'X' at the end. These will show as null if we convert the column to an integer type. We first need to replace these Xs and then convert the column."
   ]
  },
  {
   "cell_type": "code",
   "execution_count": 16,
   "id": "294d64d8",
   "metadata": {},
   "outputs": [
    {
     "data": {
      "text/plain": [
       "2022695"
      ]
     },
     "execution_count": 16,
     "metadata": {},
     "output_type": "execute_result"
    }
   ],
   "source": [
    "ratings.count()"
   ]
  },
  {
   "cell_type": "code",
   "execution_count": 17,
   "id": "272c2da1",
   "metadata": {},
   "outputs": [
    {
     "name": "stdout",
     "output_type": "stream",
     "text": [
      "root\n",
      " |-- ProductId: string (nullable = true)\n",
      " |-- overall: float (nullable = true)\n",
      " |-- reviewTime: date (nullable = true)\n",
      " |-- reviewerID: string (nullable = true)\n",
      " |-- reviewerName: string (nullable = true)\n",
      " |-- style: string (nullable = true)\n",
      " |-- summary: string (nullable = true)\n",
      " |-- vote: float (nullable = true)\n",
      " |-- asin: string (nullable = true)\n",
      " |-- brand: string (nullable = true)\n",
      " |-- title: string (nullable = true)\n",
      " |-- description: string (nullable = true)\n",
      " |-- price: string (nullable = true)\n",
      " |-- rank: string (nullable = true)\n",
      "\n"
     ]
    }
   ],
   "source": [
    "# We can also join the two df on the item Ids (Review)\n",
    "\n",
    "df = ratings.join(meta,ratings.ProductId == meta.asin,\"inner\")\n",
    "df.printSchema()"
   ]
  },
  {
   "cell_type": "markdown",
   "id": "e0c43f44",
   "metadata": {},
   "source": [
    "### Selecting the features we want to potentially use"
   ]
  },
  {
   "cell_type": "markdown",
   "id": "83b8f394",
   "metadata": {},
   "source": [
    "We can always add in more features from those available later for our more complex models, but for our initial simple recommender system we stick to these."
   ]
  },
  {
   "cell_type": "code",
   "execution_count": 18,
   "id": "36558429",
   "metadata": {},
   "outputs": [
    {
     "name": "stdout",
     "output_type": "stream",
     "text": [
      "root\n",
      " |-- ProductId: string (nullable = true)\n",
      " |-- overall: float (nullable = true)\n",
      " |-- reviewerID: string (nullable = true)\n",
      " |-- title: string (nullable = true)\n",
      "\n",
      "+----------+-------+--------------+--------------------+\n",
      "| ProductId|overall|    reviewerID|               title|\n",
      "+----------+-------+--------------+--------------------+\n",
      "|0528881469|    2.0| A2CPBQ5W4OGBX|Rand McNally 5288...|\n",
      "|0528881469|    5.0|A3H86FCI0QZH7T|Rand McNally 5288...|\n",
      "|0758247621|    4.0|A3RF010MX29BQP|The Bite Before C...|\n",
      "|0758247621|    2.0|A37W3T69W2Y2PC|The Bite Before C...|\n",
      "|0758247621|    2.0|A2IF5C0I5BH11F|The Bite Before C...|\n",
      "+----------+-------+--------------+--------------------+\n",
      "only showing top 5 rows\n",
      "\n"
     ]
    }
   ],
   "source": [
    "cols = (\"asin\",\"brand\",\"summary\", \"description\", \"vote\", \"style\", 'rank', 'price','reviewTime','reviewerName')\n",
    "\n",
    "df = df.drop(*cols)\n",
    "df.printSchema()\n",
    "df.show(5)"
   ]
  },
  {
   "cell_type": "markdown",
   "id": "7438f064",
   "metadata": {},
   "source": [
    "### EDA"
   ]
  },
  {
   "cell_type": "markdown",
   "id": "f38d2a74",
   "metadata": {},
   "source": [
    "In terms of visualization of data, pandas has a lot more library support for this than pyspark. We can convert our pyspark df into pandas to start visualizing our data."
   ]
  },
  {
   "cell_type": "code",
   "execution_count": 19,
   "id": "38223368",
   "metadata": {},
   "outputs": [],
   "source": [
    "import pandas as pd\n",
    "vis = df.toPandas()\n",
    "vis = pd.DataFrame(vis)"
   ]
  },
  {
   "cell_type": "code",
   "execution_count": 20,
   "id": "a5f55c27",
   "metadata": {},
   "outputs": [
    {
     "data": {
      "text/html": [
       "<div>\n",
       "<style scoped>\n",
       "    .dataframe tbody tr th:only-of-type {\n",
       "        vertical-align: middle;\n",
       "    }\n",
       "\n",
       "    .dataframe tbody tr th {\n",
       "        vertical-align: top;\n",
       "    }\n",
       "\n",
       "    .dataframe thead th {\n",
       "        text-align: right;\n",
       "    }\n",
       "</style>\n",
       "<table border=\"1\" class=\"dataframe\">\n",
       "  <thead>\n",
       "    <tr style=\"text-align: right;\">\n",
       "      <th></th>\n",
       "      <th>ProductId</th>\n",
       "      <th>overall</th>\n",
       "      <th>reviewerID</th>\n",
       "      <th>title</th>\n",
       "    </tr>\n",
       "  </thead>\n",
       "  <tbody>\n",
       "    <tr>\n",
       "      <th>0</th>\n",
       "      <td>0528881469</td>\n",
       "      <td>2.0</td>\n",
       "      <td>A2CPBQ5W4OGBX</td>\n",
       "      <td>Rand McNally 528881469 7-inch Intelliroute TND...</td>\n",
       "    </tr>\n",
       "    <tr>\n",
       "      <th>1</th>\n",
       "      <td>0528881469</td>\n",
       "      <td>5.0</td>\n",
       "      <td>A3H86FCI0QZH7T</td>\n",
       "      <td>Rand McNally 528881469 7-inch Intelliroute TND...</td>\n",
       "    </tr>\n",
       "    <tr>\n",
       "      <th>2</th>\n",
       "      <td>0758247621</td>\n",
       "      <td>4.0</td>\n",
       "      <td>A3RF010MX29BQP</td>\n",
       "      <td>The Bite Before Christmas</td>\n",
       "    </tr>\n",
       "    <tr>\n",
       "      <th>3</th>\n",
       "      <td>0758247621</td>\n",
       "      <td>2.0</td>\n",
       "      <td>A37W3T69W2Y2PC</td>\n",
       "      <td>The Bite Before Christmas</td>\n",
       "    </tr>\n",
       "    <tr>\n",
       "      <th>4</th>\n",
       "      <td>0758247621</td>\n",
       "      <td>2.0</td>\n",
       "      <td>A2IF5C0I5BH11F</td>\n",
       "      <td>The Bite Before Christmas</td>\n",
       "    </tr>\n",
       "  </tbody>\n",
       "</table>\n",
       "</div>"
      ],
      "text/plain": [
       "    ProductId  overall      reviewerID  \\\n",
       "0  0528881469      2.0   A2CPBQ5W4OGBX   \n",
       "1  0528881469      5.0  A3H86FCI0QZH7T   \n",
       "2  0758247621      4.0  A3RF010MX29BQP   \n",
       "3  0758247621      2.0  A37W3T69W2Y2PC   \n",
       "4  0758247621      2.0  A2IF5C0I5BH11F   \n",
       "\n",
       "                                               title  \n",
       "0  Rand McNally 528881469 7-inch Intelliroute TND...  \n",
       "1  Rand McNally 528881469 7-inch Intelliroute TND...  \n",
       "2                          The Bite Before Christmas  \n",
       "3                          The Bite Before Christmas  \n",
       "4                          The Bite Before Christmas  "
      ]
     },
     "execution_count": 20,
     "metadata": {},
     "output_type": "execute_result"
    }
   ],
   "source": [
    "vis.head()"
   ]
  },
  {
   "cell_type": "code",
   "execution_count": 21,
   "id": "6b75e33f",
   "metadata": {},
   "outputs": [
    {
     "name": "stderr",
     "output_type": "stream",
     "text": [
      "C:\\Users\\18324\\anaconda3\\lib\\site-packages\\seaborn\\categorical.py:3714: UserWarning: The `factorplot` function has been renamed to `catplot`. The original name will be removed in a future release. Please update your code. Note that the default `kind` in `factorplot` (`'point'`) has changed `'strip'` in `catplot`.\n",
      "  warnings.warn(msg)\n",
      "C:\\Users\\18324\\anaconda3\\lib\\site-packages\\seaborn\\_decorators.py:36: FutureWarning: Pass the following variable as a keyword arg: x. From version 0.12, the only valid positional argument will be `data`, and passing other arguments without an explicit keyword will result in an error or misinterpretation.\n",
      "  warnings.warn(\n"
     ]
    },
    {
     "data": {
      "image/png": "[encoded data removed]",
      "text/plain": [
       "<Figure size 720x360 with 1 Axes>"
      ]
     },
     "metadata": {},
     "output_type": "display_data"
    }
   ],
   "source": [
    "import seaborn as sns\n",
    "import matplotlib.pyplot as plt\n",
    "with sns.axes_style('white'):\n",
    "    g = sns.factorplot(\"overall\", data=vis, aspect=2.0,kind='count')\n",
    "    g.set_ylabels(\"Total number of ratings\")"
   ]
  },
  {
   "cell_type": "code",
   "execution_count": 22,
   "id": "cb8115dd",
   "metadata": {},
   "outputs": [
    {
     "data": {
      "image/png": "[encoded data removed]",
      "text/plain": [
       "<Figure size 432x288 with 1 Axes>"
      ]
     },
     "metadata": {
      "needs_background": "light"
     },
     "output_type": "display_data"
    }
   ],
   "source": [
    "# Shows the product popularity based on the number of ratings given\n",
    "\n",
    "popular_prods = pd.DataFrame(vis.groupby('ProductId')['overall'].count())\n",
    "top_15 = popular_prods.sort_values('overall',ascending=False)\n",
    "\n",
    "_ = top_15.head(15).plot(kind = \"bar\")"
   ]
  },
  {
   "cell_type": "code",
   "execution_count": null,
   "id": "d34d17c3",
   "metadata": {},
   "outputs": [],
   "source": []
  },
  {
   "cell_type": "markdown",
   "id": "a8cdc235",
   "metadata": {},
   "source": [
    "### Calculating sparsity"
   ]
  },
  {
   "cell_type": "markdown",
   "id": "b0af6c7c",
   "metadata": {},
   "source": [
    "Sparsity is calculated by the number of cells in a matrix that contain a rating divided by the total number of values that matrix could hold given the number of users and items. "
   ]
  },
  {
   "cell_type": "code",
   "execution_count": 23,
   "id": "d27dceae",
   "metadata": {},
   "outputs": [],
   "source": [
    "# Total amount of ratings in the data\n",
    "tot_ratings = df.select('overall').count()"
   ]
  },
  {
   "cell_type": "code",
   "execution_count": 24,
   "id": "8cb3e936",
   "metadata": {},
   "outputs": [
    {
     "data": {
      "text/plain": [
       "321918"
      ]
     },
     "execution_count": 24,
     "metadata": {},
     "output_type": "execute_result"
    }
   ],
   "source": [
    "tot_ratings"
   ]
  },
  {
   "cell_type": "code",
   "execution_count": 25,
   "id": "aa5f1ce2",
   "metadata": {},
   "outputs": [],
   "source": [
    "# Number of distinct users and distinct products\n",
    "tot_users = df.select('reviewerID').distinct().count()\n",
    "tot_products = df.select('ProductId').distinct().count()\n",
    "\n",
    "prod = tot_users * tot_products"
   ]
  },
  {
   "cell_type": "code",
   "execution_count": 26,
   "id": "3bdc4b92",
   "metadata": {},
   "outputs": [
    {
     "name": "stdout",
     "output_type": "stream",
     "text": [
      "The dataframe is  99.99% empty.\n"
     ]
    }
   ],
   "source": [
    "# Find sparsity\n",
    "\n",
    "sparsity = (1.0 - (tot_ratings *1.0)/prod)*100\n",
    "print(\"The dataframe is \", \"%.2f\" % sparsity + \"% empty.\")"
   ]
  },
  {
   "cell_type": "markdown",
   "id": "d893fdcd",
   "metadata": {},
   "source": [
    "### Summary statistics"
   ]
  },
  {
   "cell_type": "markdown",
   "id": "6094fb08",
   "metadata": {},
   "source": [
    "We can get a better look at some of the statistics for both the products and the users."
   ]
  },
  {
   "cell_type": "code",
   "execution_count": 27,
   "id": "ea41d692",
   "metadata": {},
   "outputs": [
    {
     "name": "stdout",
     "output_type": "stream",
     "text": [
      "Fewest number of ratings for a product: \n",
      "+----------+\n",
      "|min(count)|\n",
      "+----------+\n",
      "|         1|\n",
      "+----------+\n",
      "\n",
      "Avg num ratings per product: \n",
      "+------------------+\n",
      "|        avg(count)|\n",
      "+------------------+\n",
      "|15.560614849187935|\n",
      "+------------------+\n",
      "\n",
      "User with the fewest ratings: \n",
      "+----------+\n",
      "|min(count)|\n",
      "+----------+\n",
      "|         1|\n",
      "+----------+\n",
      "\n",
      "Avg num ratings per user: \n",
      "+------------------+\n",
      "|        avg(count)|\n",
      "+------------------+\n",
      "|1.4237985298410423|\n",
      "+------------------+\n",
      "\n"
     ]
    }
   ],
   "source": [
    "# Min num ratings for products\n",
    "print(\"Fewest number of ratings for a product: \")\n",
    "df.groupBy(\"ProductId\").count().select(min(\"count\")).show()\n",
    "\n",
    "# Avg num ratings per product\n",
    "print(\"Avg num ratings per product: \")\n",
    "df.groupBy(\"ProductId\").count().select(avg(\"count\")).show()\n",
    "\n",
    "# Min num ratings for user\n",
    "print(\"User with the fewest ratings: \")\n",
    "df.groupBy(\"reviewerID\").count().select(min(\"count\")).show()\n",
    "\n",
    "# Avg num ratings per users\n",
    "print(\"Avg num ratings per user: \")\n",
    "df.groupBy(\"reviewerID\").count().select(avg(\"count\")).show()"
   ]
  },
  {
   "cell_type": "markdown",
   "id": "26b0ac34",
   "metadata": {},
   "source": [
    "### Assigning integer Ids"
   ]
  },
  {
   "cell_type": "code",
   "execution_count": 28,
   "id": "14f013b6",
   "metadata": {},
   "outputs": [],
   "source": [
    "users = df.select('reviewerID').distinct()"
   ]
  },
  {
   "cell_type": "code",
   "execution_count": 29,
   "id": "c9c563c4",
   "metadata": {},
   "outputs": [
    {
     "name": "stdout",
     "output_type": "stream",
     "text": [
      "+--------------+---------+\n",
      "|    reviewerID|userIntId|\n",
      "+--------------+---------+\n",
      "|A3HBNQT0ZFKISO|        0|\n",
      "| A5OA88NHOC3HZ|        1|\n",
      "|A2BS625G7TZPQV|        2|\n",
      "| ANE8EPVOZRCYP|        3|\n",
      "|A1A7FHG6U8IA79|        4|\n",
      "+--------------+---------+\n",
      "only showing top 5 rows\n",
      "\n"
     ]
    }
   ],
   "source": [
    "# Coalesce method using user IDs\n",
    "from pyspark.sql.functions import monotonically_increasing_id\n",
    "users = users.coalesce(1)\n",
    "users = users.withColumn('userIntId', monotonically_increasing_id()).persist()\n",
    "users.show(5)"
   ]
  },
  {
   "cell_type": "code",
   "execution_count": 30,
   "id": "d38fdd51",
   "metadata": {},
   "outputs": [
    {
     "name": "stdout",
     "output_type": "stream",
     "text": [
      "+--------------+----------+-------+--------------------+---------+\n",
      "|    reviewerID| ProductId|overall|               title|userIntId|\n",
      "+--------------+----------+-------+--------------------+---------+\n",
      "| A2CPBQ5W4OGBX|0528881469|    2.0|Rand McNally 5288...|    76842|\n",
      "|A3H86FCI0QZH7T|0528881469|    5.0|Rand McNally 5288...|     5558|\n",
      "|A3RF010MX29BQP|0758247621|    4.0|The Bite Before C...|    30374|\n",
      "|A37W3T69W2Y2PC|0758247621|    2.0|The Bite Before C...|   127674|\n",
      "|A2IF5C0I5BH11F|0758247621|    2.0|The Bite Before C...|    33786|\n",
      "|A348GYLVPWT8AK|0758247621|    2.0|The Bite Before C...|   160665|\n",
      "|A1PUNXF1CHZAQX|0758247621|    4.0|The Bite Before C...|    96021|\n",
      "|A19N3S7CBSU6O7|1400599997|    5.0|Barnes &amp; Nobl...|   131047|\n",
      "| APWTOYJ5U0F07|1400599997|    5.0|Barnes &amp; Nobl...|    97102|\n",
      "|  ABIN1JYQ9F3J|1400599997|    3.0|Barnes &amp; Nobl...|   108543|\n",
      "| ATIOA4WH6UE1C|1400599997|    5.0|Barnes &amp; Nobl...|   148081|\n",
      "|A28ZON2GCK6Y3X|1400599997|    5.0|Barnes &amp; Nobl...|   134457|\n",
      "|A2KV9CT1CGLC1E|1400599997|    4.0|Barnes &amp; Nobl...|   133296|\n",
      "|A343QC2O211PHA|1400599997|    1.0|Barnes &amp; Nobl...|    73465|\n",
      "|A105AZN9C8UAOJ|1400599997|    5.0|Barnes &amp; Nobl...|   134458|\n",
      "| ANEUPVXP9GKJQ|1400599997|    5.0|Barnes &amp; Nobl...|   178770|\n",
      "|A1SNAWQ3DYNK5I|1400599997|    1.0|Barnes &amp; Nobl...|     1158|\n",
      "|  AJIEYYB8CT9D|1400599997|    5.0|Barnes &amp; Nobl...|    95982|\n",
      "|A2YCEKVUN1W5F1|1400599997|    4.0|Barnes &amp; Nobl...|    76898|\n",
      "|A127X09WZNT908|1400599997|    5.0|Barnes &amp; Nobl...|    82428|\n",
      "+--------------+----------+-------+--------------------+---------+\n",
      "only showing top 20 rows\n",
      "\n"
     ]
    }
   ],
   "source": [
    "new_df = df.join(users, \"reviewerId\", \"left\")\n",
    "new_df.show()"
   ]
  },
  {
   "cell_type": "code",
   "execution_count": 31,
   "id": "59997d81",
   "metadata": {},
   "outputs": [],
   "source": [
    "products = df.select('ProductId').distinct()"
   ]
  },
  {
   "cell_type": "code",
   "execution_count": 32,
   "id": "e148c38c",
   "metadata": {},
   "outputs": [
    {
     "name": "stdout",
     "output_type": "stream",
     "text": [
      "+----------+---------+\n",
      "| ProductId|ProdIntId|\n",
      "+----------+---------+\n",
      "|B00000JBK6|        0|\n",
      "|B000067RL2|        1|\n",
      "|B000068UY7|        2|\n",
      "|B00006JLOT|        3|\n",
      "|B00006OAJ4|        4|\n",
      "+----------+---------+\n",
      "only showing top 5 rows\n",
      "\n"
     ]
    }
   ],
   "source": [
    "# Coalesce method using product IDs\n",
    "\n",
    "products = products.coalesce(1)\n",
    "products = products.withColumn('ProdIntId', monotonically_increasing_id()).persist()\n",
    "products.show(5)"
   ]
  },
  {
   "cell_type": "code",
   "execution_count": 33,
   "id": "72c1405c",
   "metadata": {},
   "outputs": [
    {
     "name": "stdout",
     "output_type": "stream",
     "text": [
      "+----------+--------------+-------+--------------------+---------+---------+\n",
      "| ProductId|    reviewerID|overall|               title|userIntId|ProdIntId|\n",
      "+----------+--------------+-------+--------------------+---------+---------+\n",
      "|0528881469| A2CPBQ5W4OGBX|    2.0|Rand McNally 5288...|    76842|      104|\n",
      "|0528881469|A3H86FCI0QZH7T|    5.0|Rand McNally 5288...|     5558|      104|\n",
      "|0758247621|A3RF010MX29BQP|    4.0|The Bite Before C...|    30374|     1123|\n",
      "|0758247621|A37W3T69W2Y2PC|    2.0|The Bite Before C...|   127674|     1123|\n",
      "|0758247621|A2IF5C0I5BH11F|    2.0|The Bite Before C...|    33786|     1123|\n",
      "|0758247621|A348GYLVPWT8AK|    2.0|The Bite Before C...|   160665|     1123|\n",
      "|0758247621|A1PUNXF1CHZAQX|    4.0|The Bite Before C...|    96021|     1123|\n",
      "|1400599997|A19N3S7CBSU6O7|    5.0|Barnes &amp; Nobl...|   131047|      723|\n",
      "|1400599997| APWTOYJ5U0F07|    5.0|Barnes &amp; Nobl...|    97102|      723|\n",
      "|1400599997|  ABIN1JYQ9F3J|    3.0|Barnes &amp; Nobl...|   108543|      723|\n",
      "|1400599997| ATIOA4WH6UE1C|    5.0|Barnes &amp; Nobl...|   148081|      723|\n",
      "|1400599997|A28ZON2GCK6Y3X|    5.0|Barnes &amp; Nobl...|   134457|      723|\n",
      "|1400599997|A2KV9CT1CGLC1E|    4.0|Barnes &amp; Nobl...|   133296|      723|\n",
      "|1400599997|A343QC2O211PHA|    1.0|Barnes &amp; Nobl...|    73465|      723|\n",
      "|1400599997|A105AZN9C8UAOJ|    5.0|Barnes &amp; Nobl...|   134458|      723|\n",
      "|1400599997| ANEUPVXP9GKJQ|    5.0|Barnes &amp; Nobl...|   178770|      723|\n",
      "|1400599997|A1SNAWQ3DYNK5I|    1.0|Barnes &amp; Nobl...|     1158|      723|\n",
      "|1400599997|  AJIEYYB8CT9D|    5.0|Barnes &amp; Nobl...|    95982|      723|\n",
      "|1400599997|A2YCEKVUN1W5F1|    4.0|Barnes &amp; Nobl...|    76898|      723|\n",
      "|1400599997|A127X09WZNT908|    5.0|Barnes &amp; Nobl...|    82428|      723|\n",
      "+----------+--------------+-------+--------------------+---------+---------+\n",
      "only showing top 20 rows\n",
      "\n"
     ]
    }
   ],
   "source": [
    "new_df = new_df.join(products, \"ProductId\", \"left\")\n",
    "new_df.show()"
   ]
  },
  {
   "cell_type": "code",
   "execution_count": null,
   "id": "196188ba",
   "metadata": {},
   "outputs": [],
   "source": []
  },
  {
   "cell_type": "markdown",
   "id": "a9f7a55e",
   "metadata": {},
   "source": [
    "### Simple ALS model buildout"
   ]
  },
  {
   "cell_type": "code",
   "execution_count": 34,
   "id": "dd15fb71",
   "metadata": {},
   "outputs": [],
   "source": [
    "(training_data, test_data) = new_df.randomSplit([0.8, 0.2], seed=42)"
   ]
  },
  {
   "cell_type": "code",
   "execution_count": 35,
   "id": "42c5c156",
   "metadata": {},
   "outputs": [
    {
     "name": "stdout",
     "output_type": "stream",
     "text": [
      "+----------+--------------+-------+--------------------+---------+---------+----------+\n",
      "| ProductId|    reviewerID|overall|               title|userIntId|ProdIntId|prediction|\n",
      "+----------+--------------+-------+--------------------+---------+---------+----------+\n",
      "|B004Z8VCEG|A2UFG3DMVELP6I|    5.0|MITSUBISHI-Compat...|       65|      807| 1.8478628|\n",
      "|B0016IXEWG|A2HDNN5ZDII5U5|    5.0|Belkin Mini 5W 3-...|      101|     6942| 1.6267794|\n",
      "|B001NJ27QM| AT0KCH9Y5BCQK|    5.0| Coolerguys Singl...|      183|     9352| 3.2923946|\n",
      "|B000X1TS54|A1E94ESL5XM4HM|    4.0|SONOS BRIDGE for ...|      385|     6334| 2.7306578|\n",
      "|B005918EFI|A2M2OSPYWXV01Y|    4.0|Monoprice Commerc...|      463|     7406| 2.2144563|\n",
      "|B0013IWYHU|A1XM9SP8CG4J44|    3.0|Logitech Squeezeb...|      496|     7997| 2.8398883|\n",
      "|B0040720NO|A2YXKWRDT3J2C8|    5.0|Pyle Home PTCDS1U...|     1139|      588| 2.9423933|\n",
      "|B0013CDZDI|A2RV4HD179FOGE|    4.0|Home Audio Power ...|     1165|     1877|  2.790855|\n",
      "|B003TW6B3G|A2RV4HD179FOGE|    4.0|OtterBox iPad Com...|     1165|     7181| 2.9687524|\n",
      "|B0056TYRMW|A3BV4PHLEC8UOV|    5.0|Transcend USB 3.0...|     1265|    14163|0.47530162|\n",
      "|B000BQ7GW8|A3ADJ1FP68FFYI|    5.0|SanDisk 2GB Class...|     1331|    17495|  4.216834|\n",
      "|B0000Y8C2Y|A1B5Q12S41M8VU|    1.0|Celestron 21045 1...|     1395|     4417| 0.9710885|\n",
      "|B00018RT1E|A34PC695VUCPIT|    5.0|IOGEAR USB to Par...|     1404|     9016| 4.8353224|\n",
      "|B002TXJUJ8|A2SCLUSIIR1CXT|    5.0|SanDisk 16GB ULTR...|     1537|     7172| 4.6366386|\n",
      "|B004AGXHNC|A2TU2M987K5R21|    5.0|Antec TrueQuiet 1...|     1580|    13822| 3.6188257|\n",
      "|B003RCEAB8|A24F4UQRAIZAWK|    4.0|Mediabridge Ether...|     1621|    14157|  3.095409|\n",
      "|B001584QQU|A2FLDK22ALOI9C|    3.0|Power Acoustik HP...|     2180|    20068| 2.9292922|\n",
      "|B00007AP2O| AVF4ORI398WUG|    5.0|SANOXY USB to PS/...|     2249|     6414|  4.304849|\n",
      "|B004H4XE6W| AVF4ORI398WUG|    5.0|EVGA GeForce 210 ...|     2249|     8258|  4.750739|\n",
      "|B004NY9UX2|A2H5HEOD8WF59N|    5.0|Case Logic LAPS-1...|     2366|     2214| 2.6679091|\n",
      "+----------+--------------+-------+--------------------+---------+---------+----------+\n",
      "only showing top 20 rows\n",
      "\n"
     ]
    }
   ],
   "source": [
    "from pyspark.ml.recommendation import ALS\n",
    "\n",
    "als = ALS(userCol=\"userIntId\", itemCol=\"ProdIntId\", ratingCol=\"overall\", rank =10, maxIter =15, regParam =0.1,\n",
    "          coldStartStrategy=\"drop\", nonnegative =True, implicitPrefs = False)\n",
    "\n",
    "# Fit the mdoel to the training_data\n",
    "model = als.fit(training_data)\n",
    "\n",
    "# Generate predictions on the test_data\n",
    "test_predictions = model.transform(test_data)\n",
    "test_predictions.show()"
   ]
  },
  {
   "cell_type": "markdown",
   "id": "0beb70a5",
   "metadata": {},
   "source": [
    "### Evaluating performance"
   ]
  },
  {
   "cell_type": "code",
   "execution_count": 36,
   "id": "19b3b15d",
   "metadata": {},
   "outputs": [
    {
     "name": "stdout",
     "output_type": "stream",
     "text": [
      "1.7642952281923179\n"
     ]
    }
   ],
   "source": [
    "from pyspark.ml.evaluation import RegressionEvaluator\n",
    "\n",
    "evaluator = RegressionEvaluator(metricName=\"rmse\", labelCol=\"overall\", predictionCol=\"prediction\")\n",
    "RMSE = evaluator.evaluate(test_predictions)\n",
    "print(RMSE)"
   ]
  },
  {
   "cell_type": "markdown",
   "id": "dd614e54",
   "metadata": {},
   "source": [
    "We can see that the RMSE is high. However, this was a simple buildout, we can work on improvements and complexity from here. This includes hyperparameter tuning, changing which features are present, etc."
   ]
  },
  {
   "cell_type": "markdown",
   "id": "0b2c730d",
   "metadata": {},
   "source": [
    "### Making recommendations"
   ]
  },
  {
   "cell_type": "markdown",
   "id": "9397539b",
   "metadata": {},
   "source": [
    "Here we can use our engine to recommend electronic products to our users."
   ]
  },
  {
   "cell_type": "code",
   "execution_count": 43,
   "id": "31fbb8b7",
   "metadata": {},
   "outputs": [
    {
     "name": "stdout",
     "output_type": "stream",
     "text": [
      "+---------+--------------------+\n",
      "|userIntId|     recommendations|\n",
      "+---------+--------------------+\n",
      "|       28|[{3815, 5.9208527...|\n",
      "|       31|[{18656, 3.593120...|\n",
      "|       34|[{488, 6.2994123}...|\n",
      "|       53|[{19380, 5.689323...|\n",
      "|       65|[{11014, 7.078497...|\n",
      "|       78|[{9295, 4.6201515...|\n",
      "|       81|[{6464, 4.095128}...|\n",
      "|       85|[{8332, 6.6328545...|\n",
      "|      101|[{17808, 3.318189...|\n",
      "|      108|[{934, 5.9189405}...|\n",
      "|      115|[{11657, 6.109058...|\n",
      "|      126|[{17517, 6.918933...|\n",
      "|      137|[{1783, 4.340752}...|\n",
      "|      148|[{12199, 7.055878...|\n",
      "|      155|[{8397, 6.5744524...|\n",
      "|      183|[{10290, 5.055439...|\n",
      "|      193|[{2985, 1.3481464...|\n",
      "|      211|[{7415, 7.5267124...|\n",
      "|      243|[{14978, 6.859053...|\n",
      "|      251|[{13607, 4.313615...|\n",
      "+---------+--------------------+\n",
      "only showing top 20 rows\n",
      "\n"
     ]
    }
   ],
   "source": [
    "user_recs=model.recommendForAllUsers(20).show(20)"
   ]
  },
  {
   "cell_type": "code",
   "execution_count": null,
   "id": "bc7e7d3c",
   "metadata": {},
   "outputs": [],
   "source": []
  }
 ],
 "metadata": {
  "kernelspec": {
   "display_name": "Python 3",
   "language": "python",
   "name": "python3"
  },
  "language_info": {
   "codemirror_mode": {
    "name": "ipython",
    "version": 3
   },
   "file_extension": ".py",
   "mimetype": "text/x-python",
   "name": "python",
   "nbconvert_exporter": "python",
   "pygments_lexer": "ipython3",
   "version": "3.8.8"
  }
 },
 "nbformat": 4,
 "nbformat_minor": 5
}
